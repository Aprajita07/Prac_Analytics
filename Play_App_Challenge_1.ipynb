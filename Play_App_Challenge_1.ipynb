{
 "cells": [
  {
   "cell_type": "code",
   "execution_count": 2,
   "metadata": {},
   "outputs": [],
   "source": [
    "import pandas as pd\n",
    "import numpy as np\n",
    "import re\n",
    "import locale as lc"
   ]
  },
  {
   "cell_type": "code",
   "execution_count": 3,
   "metadata": {},
   "outputs": [
    {
     "data": {
      "text/plain": [
       "('en_US', 'UTF-8')"
      ]
     },
     "execution_count": 3,
     "metadata": {},
     "output_type": "execute_result"
    }
   ],
   "source": [
    "lc.setlocale(lc.LC_ALL,'en_US.UTF8')\n",
    "lc.getdefaultlocale()\n",
    "lc.getlocale()"
   ]
  },
  {
   "cell_type": "code",
   "execution_count": 4,
   "metadata": {},
   "outputs": [],
   "source": [
    "apps = pd.read_excel(\"Google_Play_Store_Raw.xlsx\")\n",
    "#tpf.shift(1,axis=1)\n",
    "#tpf.shift(1,axis=1)"
   ]
  },
  {
   "cell_type": "code",
   "execution_count": 5,
   "metadata": {},
   "outputs": [
    {
     "name": "stdout",
     "output_type": "stream",
     "text": [
      "Document contains 10841 rows and 15 columns before data cleaning\n"
     ]
    }
   ],
   "source": [
    "rows, column = apps.shape\n",
    "print(\"Document contains {} rows and {} columns before data cleaning\".format(rows, column))"
   ]
  },
  {
   "cell_type": "code",
   "execution_count": 6,
   "metadata": {},
   "outputs": [
    {
     "data": {
      "text/plain": [
       "Index(['App', 'Category', 'Rating', 'Reviews', 'Size', 'Installs', 'Type',\n",
       "       'Price', 'Content Rating', 'Genres', 'Last Updated', 'Current Ver',\n",
       "       'Android Ver', 'Unnamed: 13', 'Unnamed: 14'],\n",
       "      dtype='object')"
      ]
     },
     "execution_count": 6,
     "metadata": {},
     "output_type": "execute_result"
    }
   ],
   "source": [
    "apps.columns"
   ]
  },
  {
   "cell_type": "code",
   "execution_count": 7,
   "metadata": {},
   "outputs": [],
   "source": [
    "apps.drop(['Unnamed: 13','Unnamed: 14'],axis=1,inplace=True)"
   ]
  },
  {
   "cell_type": "code",
   "execution_count": 8,
   "metadata": {},
   "outputs": [
    {
     "name": "stdout",
     "output_type": "stream",
     "text": [
      "Document contains 10841 rows and 13 columns after data cleaning\n"
     ]
    }
   ],
   "source": [
    "rows, column = apps.shape\n",
    "print(\"Document contains {} rows and {} columns after data cleaning\".format(rows, column))"
   ]
  },
  {
   "cell_type": "code",
   "execution_count": 9,
   "metadata": {},
   "outputs": [
    {
     "name": "stdout",
     "output_type": "stream",
     "text": [
      "                                           App Category  Rating Reviews  \\\n",
      "10472  Life Made WI-Fi Touchscreen Photo Frame      1.9    19.0    3.0M   \n",
      "\n",
      "         Size Installs Type     Price Content Rating             Genres  \\\n",
      "10472  1,000+     Free    0  Everyone            NaN  February 11, 2018   \n",
      "\n",
      "      Last Updated Current Ver Android Ver  \n",
      "10472       1.0.19  4.0 and up         NaN  \n"
     ]
    }
   ],
   "source": [
    "tpf = apps[apps.Size=='1,000+'] #10472\n",
    "print(tpf)"
   ]
  },
  {
   "cell_type": "code",
   "execution_count": 10,
   "metadata": {},
   "outputs": [
    {
     "name": "stdout",
     "output_type": "stream",
     "text": [
      "1.9\n",
      "19.0\n",
      "Life Made WI-Fi Touchscreen Photo Frame\n",
      "3.0M\n",
      "1,000+\n",
      "Free\n",
      "0\n",
      "Everyone\n",
      "nan\n",
      "February 11, 2018\n",
      "1.0.19\n",
      "4.0 and up\n"
     ]
    }
   ],
   "source": [
    "new_rating= apps[apps.Size=='1,000+']['Category']\n",
    "print(new_rating.values[0])\n",
    "new_review= apps[apps.Size=='1,000+']['Rating']\n",
    "print(new_review.values[0])\n",
    "app_name = apps[apps.Size=='1,000+']['App']\n",
    "print(app_name.values[0])\n",
    "new_size= apps[apps.Size=='1,000+']['Reviews']\n",
    "print(new_size.values[0])\n",
    "new_installs= apps[apps.Size=='1,000+']['Size']\n",
    "print(new_installs.values[0])\n",
    "new_Type= apps[apps.Size=='1,000+']['Installs']\n",
    "print(new_Type.values[0])\n",
    "new_price= apps[apps.Size=='1,000+']['Type']\n",
    "print(new_price.values[0])\n",
    "new_CR= apps[apps.Size=='1,000+']['Price']\n",
    "print(new_CR.values[0])\n",
    "new_Genres = apps[apps.Size=='1,000+']['Content Rating']\n",
    "print(new_Genres.values[0])\n",
    "new_LU = apps[apps.Size=='1,000+']['Genres']\n",
    "print(new_LU.values[0])\n",
    "new_CV = apps[apps.Size=='1,000+']['Last Updated']\n",
    "print(new_CV.values[0])\n",
    "new_AV = apps[apps.Size=='1,000+']['Current Ver']\n",
    "print(new_AV.values[0])"
   ]
  },
  {
   "cell_type": "code",
   "execution_count": 11,
   "metadata": {},
   "outputs": [],
   "source": [
    "#tpf = apps[apps.Size=='1,000+'].shift(periods=1,axis=1)\n",
    "#apps.update(tpf,join='left',overwrite=True)"
   ]
  },
  {
   "cell_type": "code",
   "execution_count": 12,
   "metadata": {},
   "outputs": [],
   "source": [
    "apps.loc[10472,'Rating'] = new_rating.values[0]\n",
    "apps.loc[10472,'Category']= np.NaN\n",
    "apps.loc[10472,'Reviews']= (new_review.values[0])\n",
    "apps.loc[10472,'Size']= (new_size.values[0])\n",
    "apps.loc[10472,'Installs'] = (new_installs.values[0])\n",
    "apps.loc[10472,'Type']  = (new_Type.values[0])\n",
    "apps.loc[10472,'Price']  = (new_price.values[0])\n",
    "apps.loc[10472,'Content Rating']  =(new_CR.values[0])\n",
    "apps.loc[10472,'Genres'] = (new_Genres.values[0])\n",
    "apps.loc[10472,'Last Updated'] = (new_LU.values[0])\n",
    "apps.loc[10472,'Current Ver'] = (new_CV.values[0])\n",
    "apps.loc[10472,'Android Ver'] = (new_AV.values[0])"
   ]
  },
  {
   "cell_type": "code",
   "execution_count": 13,
   "metadata": {},
   "outputs": [
    {
     "data": {
      "text/plain": [
       "App               Life Made WI-Fi Touchscreen Photo Frame\n",
       "Category                                              NaN\n",
       "Rating                                                1.9\n",
       "Reviews                                                19\n",
       "Size                                                 3.0M\n",
       "Installs                                           1,000+\n",
       "Type                                                 Free\n",
       "Price                                                   0\n",
       "Content Rating                                   Everyone\n",
       "Genres                                                NaN\n",
       "Last Updated                            February 11, 2018\n",
       "Current Ver                                        1.0.19\n",
       "Android Ver                                    4.0 and up\n",
       "Name: 10472, dtype: object"
      ]
     },
     "execution_count": 13,
     "metadata": {},
     "output_type": "execute_result"
    }
   ],
   "source": [
    "apps.iloc[10472]"
   ]
  },
  {
   "cell_type": "code",
   "execution_count": 14,
   "metadata": {},
   "outputs": [
    {
     "data": {
      "text/plain": [
       "['Rating']"
      ]
     },
     "execution_count": 14,
     "metadata": {},
     "output_type": "execute_result"
    }
   ],
   "source": [
    "apps.select_dtypes(include = np.number).columns.tolist()"
   ]
  },
  {
   "cell_type": "code",
   "execution_count": 15,
   "metadata": {},
   "outputs": [
    {
     "data": {
      "text/plain": [
       "7368"
      ]
     },
     "execution_count": 15,
     "metadata": {},
     "output_type": "execute_result"
    }
   ],
   "source": [
    "#Considering Apps with Rating 4.0 and plus are performing well\n",
    "len(apps['App'][apps['Rating']>=4.0])"
   ]
  },
  {
   "cell_type": "code",
   "execution_count": 16,
   "metadata": {},
   "outputs": [
    {
     "data": {
      "text/plain": [
       "69"
      ]
     },
     "execution_count": 16,
     "metadata": {},
     "output_type": "execute_result"
    }
   ],
   "source": [
    "#Considering Apps with Rating 2.0 and less are performing bad\n",
    "len(apps['App'][apps['Rating']<=2.0])"
   ]
  },
  {
   "cell_type": "code",
   "execution_count": 17,
   "metadata": {},
   "outputs": [],
   "source": [
    "#Converting Installs from string to int\n",
    "new_val =[]\n",
    "for val in apps['Installs']:\n",
    "    lst = (re.findall('([0-9,]+)\\+{0,1}$',str(val))) #1000+ and 0\n",
    "    if len(lst)> 0:\n",
    "        val = lst[0]\n",
    "        new_val.append(lc.atoi(val))\n",
    "    else:\n",
    "        print(\"values\",len(lst),val)\n",
    "        new_val.append(np.NaN) #Free\n",
    "apps['Installs'] = new_val"
   ]
  },
  {
   "cell_type": "code",
   "execution_count": 18,
   "metadata": {},
   "outputs": [
    {
     "data": {
      "text/plain": [
       "10000"
      ]
     },
     "execution_count": 18,
     "metadata": {},
     "output_type": "execute_result"
    }
   ],
   "source": [
    "apps['Installs'][0]"
   ]
  },
  {
   "cell_type": "code",
   "execution_count": 19,
   "metadata": {},
   "outputs": [],
   "source": [
    "#Converting size from string to int\n",
    "new_size =[]\n",
    "fault_data = []\n",
    "for val in apps['Size']:\n",
    "    lst = (re.findall('([0-9]+)([a-zA-z]{1}$)',str(val))) #{'M', 'k'}\n",
    "    if len(lst)>0:\n",
    "        if(lst[0][1] == 'k'):\n",
    "            val = int(lst[0][0])\n",
    "            val = val/1000\n",
    "        else:\n",
    "            val = int(lst[0][0])\n",
    "        new_size.append(val)\n",
    "    else:\n",
    "        fault_data.append(val) # {'Varies with device', '1,000+'}\n",
    "        #print(\"fault data\", val)\n",
    "        #replacing text and ambigous data with NaN\n",
    "        new_size.append(np.NaN)\n",
    "apps['Size'] = new_size"
   ]
  },
  {
   "cell_type": "code",
   "execution_count": 20,
   "metadata": {},
   "outputs": [
    {
     "data": {
      "text/plain": [
       "21.35"
      ]
     },
     "execution_count": 20,
     "metadata": {},
     "output_type": "execute_result"
    }
   ],
   "source": [
    "round(np.average(apps['Size'].dropna()),2)"
   ]
  },
  {
   "cell_type": "code",
   "execution_count": 21,
   "metadata": {},
   "outputs": [
    {
     "data": {
      "text/plain": [
       "15462912.51"
      ]
     },
     "execution_count": 21,
     "metadata": {},
     "output_type": "execute_result"
    }
   ],
   "source": [
    "round(np.average(apps['Installs'].dropna()),2)"
   ]
  },
  {
   "cell_type": "code",
   "execution_count": 22,
   "metadata": {},
   "outputs": [
    {
     "data": {
      "text/plain": [
       "10040"
      ]
     },
     "execution_count": 22,
     "metadata": {},
     "output_type": "execute_result"
    }
   ],
   "source": [
    "type_Free = apps[apps.Type=='Free']\n",
    "len(type_Free)"
   ]
  },
  {
   "cell_type": "code",
   "execution_count": 23,
   "metadata": {},
   "outputs": [
    {
     "data": {
      "text/plain": [
       "800"
      ]
     },
     "execution_count": 23,
     "metadata": {},
     "output_type": "execute_result"
    }
   ],
   "source": [
    "type_Paid =  apps[apps.Type=='Paid']\n",
    "len(type_Paid)"
   ]
  },
  {
   "cell_type": "code",
   "execution_count": 24,
   "metadata": {},
   "outputs": [
    {
     "data": {
      "text/html": [
       "<div>\n",
       "<style scoped>\n",
       "    .dataframe tbody tr th:only-of-type {\n",
       "        vertical-align: middle;\n",
       "    }\n",
       "\n",
       "    .dataframe tbody tr th {\n",
       "        vertical-align: top;\n",
       "    }\n",
       "\n",
       "    .dataframe thead th {\n",
       "        text-align: right;\n",
       "    }\n",
       "</style>\n",
       "<table border=\"1\" class=\"dataframe\">\n",
       "  <thead>\n",
       "    <tr style=\"text-align: right;\">\n",
       "      <th></th>\n",
       "      <th>App</th>\n",
       "      <th>Category</th>\n",
       "      <th>Rating</th>\n",
       "      <th>Reviews</th>\n",
       "      <th>Size</th>\n",
       "      <th>Installs</th>\n",
       "      <th>Type</th>\n",
       "      <th>Price</th>\n",
       "      <th>Content Rating</th>\n",
       "      <th>Genres</th>\n",
       "      <th>Last Updated</th>\n",
       "      <th>Current Ver</th>\n",
       "      <th>Android Ver</th>\n",
       "    </tr>\n",
       "  </thead>\n",
       "  <tbody>\n",
       "    <tr>\n",
       "      <th>9148</th>\n",
       "      <td>Command &amp; Conquer: Rivals</td>\n",
       "      <td>FAMILY</td>\n",
       "      <td>NaN</td>\n",
       "      <td>0</td>\n",
       "      <td>NaN</td>\n",
       "      <td>0</td>\n",
       "      <td>NaN</td>\n",
       "      <td>0</td>\n",
       "      <td>Everyone 10+</td>\n",
       "      <td>Strategy</td>\n",
       "      <td>June 28, 2018</td>\n",
       "      <td>Varies with device</td>\n",
       "      <td>Varies with device</td>\n",
       "    </tr>\n",
       "  </tbody>\n",
       "</table>\n",
       "</div>"
      ],
      "text/plain": [
       "                            App Category  Rating Reviews  Size  Installs Type  \\\n",
       "9148  Command & Conquer: Rivals   FAMILY     NaN       0   NaN         0  NaN   \n",
       "\n",
       "     Price Content Rating    Genres   Last Updated         Current Ver  \\\n",
       "9148     0   Everyone 10+  Strategy  June 28, 2018  Varies with device   \n",
       "\n",
       "             Android Ver  \n",
       "9148  Varies with device  "
      ]
     },
     "execution_count": 24,
     "metadata": {},
     "output_type": "execute_result"
    }
   ],
   "source": [
    "apps[apps.Type.isnull()]\n"
   ]
  },
  {
   "cell_type": "code",
   "execution_count": 25,
   "metadata": {},
   "outputs": [
    {
     "data": {
      "text/plain": [
       "0.08"
      ]
     },
     "execution_count": 25,
     "metadata": {},
     "output_type": "execute_result"
    }
   ],
   "source": [
    "round(len(type_Paid)/len(type_Free),2)"
   ]
  },
  {
   "cell_type": "code",
   "execution_count": 26,
   "metadata": {},
   "outputs": [],
   "source": [
    "#converting price from str to int\n",
    "new_price =[]\n",
    "fault_data = []\n",
    "for val in apps['Price']:\n",
    "    lst = (re.findall('([0-9]+)(\\${0,1}$)',str(val))) #{'M', 'k'}\n",
    "    if len(lst)>0:\n",
    "            val = int(lst[0][0])\n",
    "            new_price.append(val)\n",
    "    else:\n",
    "        fault_data.append(val) # {'Varies with device', '1,000+'}\n",
    "        #print(\"fault data\", val)\n",
    "        #replacing text and ambigous data with NaN\n",
    "        new_price.append(np.NaN)\n",
    "apps['Price'] = new_price\n"
   ]
  },
  {
   "cell_type": "code",
   "execution_count": 27,
   "metadata": {},
   "outputs": [],
   "source": [
    "import matplotlib.pyplot as plt"
   ]
  },
  {
   "cell_type": "code",
   "execution_count": 28,
   "metadata": {},
   "outputs": [],
   "source": [
    "app_number = []\n",
    "category = []\n",
    "for group , frame in apps.groupby('Category'):\n",
    "    category.append(group)\n",
    "    app_number.append(len(frame))\n",
    "#print(category,app_number)\n",
    "app_dict = {'Category' : category,'App_Number' : app_number }\n",
    "app_df = pd.DataFrame(app_dict)"
   ]
  },
  {
   "cell_type": "code",
   "execution_count": 29,
   "metadata": {},
   "outputs": [
    {
     "data": {
      "text/html": [
       "<div>\n",
       "<style scoped>\n",
       "    .dataframe tbody tr th:only-of-type {\n",
       "        vertical-align: middle;\n",
       "    }\n",
       "\n",
       "    .dataframe tbody tr th {\n",
       "        vertical-align: top;\n",
       "    }\n",
       "\n",
       "    .dataframe thead th {\n",
       "        text-align: right;\n",
       "    }\n",
       "</style>\n",
       "<table border=\"1\" class=\"dataframe\">\n",
       "  <thead>\n",
       "    <tr style=\"text-align: right;\">\n",
       "      <th></th>\n",
       "      <th>Category</th>\n",
       "      <th>App_Number</th>\n",
       "    </tr>\n",
       "  </thead>\n",
       "  <tbody>\n",
       "    <tr>\n",
       "      <th>11</th>\n",
       "      <td>FAMILY</td>\n",
       "      <td>1972</td>\n",
       "    </tr>\n",
       "  </tbody>\n",
       "</table>\n",
       "</div>"
      ],
      "text/plain": [
       "   Category  App_Number\n",
       "11   FAMILY        1972"
      ]
     },
     "execution_count": 29,
     "metadata": {},
     "output_type": "execute_result"
    }
   ],
   "source": [
    "app_df_sorted = app_df.sort_values(by=['App_Number'], ascending=False)\n",
    "app_df_sorted.head(1)"
   ]
  },
  {
   "cell_type": "code",
   "execution_count": 30,
   "metadata": {},
   "outputs": [
    {
     "data": {
      "text/plain": [
       "pandas.core.series.Series"
      ]
     },
     "execution_count": 30,
     "metadata": {},
     "output_type": "execute_result"
    }
   ],
   "source": [
    "type(app_df['Category'])"
   ]
  },
  {
   "cell_type": "code",
   "execution_count": 31,
   "metadata": {},
   "outputs": [
    {
     "data": {
      "text/plain": [
       "Text(0,0.5,'Total Installs')"
      ]
     },
     "execution_count": 31,
     "metadata": {},
     "output_type": "execute_result"
    },
    {
     "data": {
      "image/png": "[encoded data removed]",
      "text/plain": [
       "<Figure size 432x288 with 1 Axes>"
      ]
     },
     "metadata": {},
     "output_type": "display_data"
    }
   ],
   "source": [
    "# plt.hist(category,app_number)A\n",
    "plt.bar(app_df['Category'],app_df['App_Number'])\n",
    "ax = plt.gca()\n",
    "x = ax.xaxis\n",
    "for item in x.get_ticklabels():\n",
    "    item.set_rotation(90)\n",
    "ax.axis([0,33,0,2050])\n",
    "ax.set_xlabel('App Category')\n",
    "ax.set_ylabel('Total Installs')"
   ]
  },
  {
   "cell_type": "code",
   "execution_count": 32,
   "metadata": {},
   "outputs": [
    {
     "ename": "AttributeError",
     "evalue": "module 'matplotlib.pyplot' has no attribute 'pio'",
     "output_type": "error",
     "traceback": [
      "\u001b[1;31m---------------------------------------------------------------------------\u001b[0m",
      "\u001b[1;31mAttributeError\u001b[0m                            Traceback (most recent call last)",
      "\u001b[1;32m<ipython-input-32-ebd97e9538d8>\u001b[0m in \u001b[0;36m<module>\u001b[1;34m()\u001b[0m\n\u001b[1;32m----> 1\u001b[1;33m \u001b[0mplt\u001b[0m\u001b[1;33m.\u001b[0m\u001b[0mpio\u001b[0m\u001b[1;33m\u001b[0m\u001b[0m\n\u001b[0m\u001b[0;32m      2\u001b[0m \u001b[1;33m\u001b[0m\u001b[0m\n\u001b[0;32m      3\u001b[0m \u001b[1;36m0\u001b[0m\u001b[1;33m\u001b[0m\u001b[0m\n",
      "\u001b[1;31mAttributeError\u001b[0m: module 'matplotlib.pyplot' has no attribute 'pio'"
     ]
    }
   ],
   "source": [
    "plt.pio\n",
    "\n",
    "0"
   ]
  },
  {
   "cell_type": "code",
   "execution_count": 33,
   "metadata": {},
   "outputs": [
    {
     "data": {
      "text/plain": [
       "list"
      ]
     },
     "execution_count": 33,
     "metadata": {},
     "output_type": "execute_result"
    }
   ],
   "source": [
    "topFive = list(app_df_sorted[:5]['App_Number'])\n",
    "type(topFive)"
   ]
  },
  {
   "cell_type": "code",
   "execution_count": 34,
   "metadata": {},
   "outputs": [
    {
     "data": {
      "text/plain": [
       "5534"
      ]
     },
     "execution_count": 34,
     "metadata": {},
     "output_type": "execute_result"
    }
   ],
   "source": [
    "rest = list(app_df_sorted[6:]['App_Number'])\n",
    "rest_total = sum(rest)\n",
    "rest_total"
   ]
  },
  {
   "cell_type": "code",
   "execution_count": 35,
   "metadata": {},
   "outputs": [
    {
     "name": "stdout",
     "output_type": "stream",
     "text": [
      "[1972, 1144, 843, 463, 460, 5534]\n"
     ]
    }
   ],
   "source": [
    "topFive.append(rest_total)\n",
    "print(topFive)"
   ]
  },
  {
   "cell_type": "code",
   "execution_count": 36,
   "metadata": {},
   "outputs": [],
   "source": [
    "category_desc = list(app_df_sorted[:5]['Category'])\n",
    "category_desc.append('Others')"
   ]
  },
  {
   "cell_type": "code",
   "execution_count": 37,
   "metadata": {},
   "outputs": [
    {
     "data": {
      "text/plain": [
       "['FAMILY', 'GAME', 'TOOLS', 'MEDICAL', 'BUSINESS', 'Others']"
      ]
     },
     "execution_count": 37,
     "metadata": {},
     "output_type": "execute_result"
    }
   ],
   "source": [
    "category_desc"
   ]
  },
  {
   "cell_type": "code",
   "execution_count": 38,
   "metadata": {},
   "outputs": [
    {
     "data": {
      "text/plain": [
       "Text(0.5,1,'Top 5 Categories among 33 App Categories')"
      ]
     },
     "execution_count": 38,
     "metadata": {},
     "output_type": "execute_result"
    },
    {
     "data": {
      "image/png": "[encoded data removed]",
      "text/plain": [
       "<Figure size 432x288 with 1 Axes>"
      ]
     },
     "metadata": {},
     "output_type": "display_data"
    }
   ],
   "source": [
    "plt.pie(topFive,labels=category_desc)\n",
    "axPie=plt.gca()\n",
    "axPie.set_title('Top 5 Categories among 33 App Categories')"
   ]
  },
  {
   "cell_type": "code",
   "execution_count": 39,
   "metadata": {},
   "outputs": [],
   "source": [
    "top_15 = app_df_sorted[:15]['Category']"
   ]
  },
  {
   "cell_type": "code",
   "execution_count": 40,
   "metadata": {},
   "outputs": [],
   "source": [
    "top_15_Category = list(top_15)\n"
   ]
  },
  {
   "cell_type": "code",
   "execution_count": 53,
   "metadata": {},
   "outputs": [
    {
     "data": {
      "text/html": [
       "<div>\n",
       "<style scoped>\n",
       "    .dataframe tbody tr th:only-of-type {\n",
       "        vertical-align: middle;\n",
       "    }\n",
       "\n",
       "    .dataframe tbody tr th {\n",
       "        vertical-align: top;\n",
       "    }\n",
       "\n",
       "    .dataframe thead th {\n",
       "        text-align: right;\n",
       "    }\n",
       "</style>\n",
       "<table border=\"1\" class=\"dataframe\">\n",
       "  <thead>\n",
       "    <tr style=\"text-align: right;\">\n",
       "      <th></th>\n",
       "      <th>Category</th>\n",
       "      <th>Average_Rating</th>\n",
       "      <th>Average_Size</th>\n",
       "      <th>Average_Price</th>\n",
       "    </tr>\n",
       "  </thead>\n",
       "  <tbody>\n",
       "    <tr>\n",
       "      <th>9</th>\n",
       "      <td>PERSONALIZATION</td>\n",
       "      <td>4.335987</td>\n",
       "      <td>11.231389</td>\n",
       "      <td>17.336735</td>\n",
       "    </tr>\n",
       "    <tr>\n",
       "      <th>4</th>\n",
       "      <td>GAME</td>\n",
       "      <td>4.286326</td>\n",
       "      <td>44.320640</td>\n",
       "      <td>6.844406</td>\n",
       "    </tr>\n",
       "    <tr>\n",
       "      <th>5</th>\n",
       "      <td>HEALTH_AND_FITNESS</td>\n",
       "      <td>4.277104</td>\n",
       "      <td>22.341182</td>\n",
       "      <td>4.498534</td>\n",
       "    </tr>\n",
       "    <tr>\n",
       "      <th>12</th>\n",
       "      <td>SOCIAL</td>\n",
       "      <td>4.255598</td>\n",
       "      <td>17.565681</td>\n",
       "      <td>1.006780</td>\n",
       "    </tr>\n",
       "    <tr>\n",
       "      <th>13</th>\n",
       "      <td>SPORTS</td>\n",
       "      <td>4.223511</td>\n",
       "      <td>24.075669</td>\n",
       "      <td>5.208333</td>\n",
       "    </tr>\n",
       "    <tr>\n",
       "      <th>11</th>\n",
       "      <td>PRODUCTIVITY</td>\n",
       "      <td>4.211396</td>\n",
       "      <td>12.629931</td>\n",
       "      <td>5.643868</td>\n",
       "    </tr>\n",
       "    <tr>\n",
       "      <th>2</th>\n",
       "      <td>FAMILY</td>\n",
       "      <td>4.192272</td>\n",
       "      <td>28.214392</td>\n",
       "      <td>8.812373</td>\n",
       "    </tr>\n",
       "    <tr>\n",
       "      <th>10</th>\n",
       "      <td>PHOTOGRAPHY</td>\n",
       "      <td>4.192114</td>\n",
       "      <td>17.129870</td>\n",
       "      <td>5.734328</td>\n",
       "    </tr>\n",
       "    <tr>\n",
       "      <th>7</th>\n",
       "      <td>MEDICAL</td>\n",
       "      <td>4.189143</td>\n",
       "      <td>19.587104</td>\n",
       "      <td>20.941685</td>\n",
       "    </tr>\n",
       "    <tr>\n",
       "      <th>1</th>\n",
       "      <td>COMMUNICATION</td>\n",
       "      <td>4.158537</td>\n",
       "      <td>11.704442</td>\n",
       "      <td>5.979328</td>\n",
       "    </tr>\n",
       "    <tr>\n",
       "      <th>8</th>\n",
       "      <td>NEWS_AND_MAGAZINES</td>\n",
       "      <td>4.132189</td>\n",
       "      <td>12.510685</td>\n",
       "      <td>0.699647</td>\n",
       "    </tr>\n",
       "    <tr>\n",
       "      <th>3</th>\n",
       "      <td>FINANCE</td>\n",
       "      <td>4.131889</td>\n",
       "      <td>17.965375</td>\n",
       "      <td>4.598361</td>\n",
       "    </tr>\n",
       "    <tr>\n",
       "      <th>0</th>\n",
       "      <td>BUSINESS</td>\n",
       "      <td>4.121452</td>\n",
       "      <td>14.184663</td>\n",
       "      <td>2.884783</td>\n",
       "    </tr>\n",
       "    <tr>\n",
       "      <th>6</th>\n",
       "      <td>LIFESTYLE</td>\n",
       "      <td>4.094904</td>\n",
       "      <td>14.396238</td>\n",
       "      <td>4.154450</td>\n",
       "    </tr>\n",
       "    <tr>\n",
       "      <th>14</th>\n",
       "      <td>TOOLS</td>\n",
       "      <td>4.047411</td>\n",
       "      <td>8.844187</td>\n",
       "      <td>8.214709</td>\n",
       "    </tr>\n",
       "  </tbody>\n",
       "</table>\n",
       "</div>"
      ],
      "text/plain": [
       "              Category  Average_Rating  Average_Size  Average_Price\n",
       "9      PERSONALIZATION        4.335987     11.231389      17.336735\n",
       "4                 GAME        4.286326     44.320640       6.844406\n",
       "5   HEALTH_AND_FITNESS        4.277104     22.341182       4.498534\n",
       "12              SOCIAL        4.255598     17.565681       1.006780\n",
       "13              SPORTS        4.223511     24.075669       5.208333\n",
       "11        PRODUCTIVITY        4.211396     12.629931       5.643868\n",
       "2               FAMILY        4.192272     28.214392       8.812373\n",
       "10         PHOTOGRAPHY        4.192114     17.129870       5.734328\n",
       "7              MEDICAL        4.189143     19.587104      20.941685\n",
       "1        COMMUNICATION        4.158537     11.704442       5.979328\n",
       "8   NEWS_AND_MAGAZINES        4.132189     12.510685       0.699647\n",
       "3              FINANCE        4.131889     17.965375       4.598361\n",
       "0             BUSINESS        4.121452     14.184663       2.884783\n",
       "6            LIFESTYLE        4.094904     14.396238       4.154450\n",
       "14               TOOLS        4.047411      8.844187       8.214709"
      ]
     },
     "execution_count": 53,
     "metadata": {},
     "output_type": "execute_result"
    }
   ],
   "source": [
    "avg_rating = []\n",
    "category_rating = []\n",
    "avg_app_size = []\n",
    "avg_app_prize = []\n",
    "for group , frame in apps.groupby('Category'):\n",
    "    if group in top_15_Category:\n",
    "        category_rating.append(group)\n",
    "        avg_rating.append(np.mean((frame['Rating'])))\n",
    "        avg_app_size.append(np.mean((frame['Size'])))\n",
    "        avg_app_prize.append(np.mean((frame['Price'])))\n",
    "#print(category,app_number)\n",
    "app_mean_rating = {'Category' : category_rating,'Average_Rating':avg_rating, 'Average_Size':avg_app_size,'Average_Price':avg_app_prize}\n",
    "app_mean_rating_df = pd.DataFrame(app_mean_rating)\n",
    "app_mean_rating_df.sort_values(by=['Average_Rating'],ascending=False,inplace=True)\n",
    "app_mean_rating_df"
   ]
  },
  {
   "cell_type": "code",
   "execution_count": 42,
   "metadata": {},
   "outputs": [
    {
     "data": {
      "text/plain": [
       "Text(0.5,1,'Average Rating of top 15 Categories')"
      ]
     },
     "execution_count": 42,
     "metadata": {},
     "output_type": "execute_result"
    },
    {
     "data": {
      "image/png": "[encoded data removed]",
      "text/plain": [
       "<Figure size 432x288 with 1 Axes>"
      ]
     },
     "metadata": {},
     "output_type": "display_data"
    }
   ],
   "source": [
    "plt.bar(app_mean_rating_df['Category'],app_mean_rating_df['Average_Rating'])\n",
    "ax = plt.gca()\n",
    "x = ax.xaxis\n",
    "for item in x.get_ticklabels():\n",
    "    item.set_rotation(90)\n",
    "ax.axis([-1,15,0,4.5])\n",
    "ax.set_xlabel('App Category')\n",
    "ax.set_ylabel('Average_Rating')\n",
    "ax.set_title('Average Rating of top 15 Categories')"
   ]
  },
  {
   "cell_type": "code",
   "execution_count": null,
   "metadata": {},
   "outputs": [],
   "source": [
    "\n"
   ]
  },
  {
   "cell_type": "code",
   "execution_count": 52,
   "metadata": {},
   "outputs": [
    {
     "data": {
      "image/png": "[encoded data removed]",
      "text/plain": [
       "<Figure size 432x288 with 1 Axes>"
      ]
     },
     "metadata": {},
     "output_type": "display_data"
    }
   ],
   "source": [
    "fig, ax2 = plt.subplots()\n",
    "index = np.arange(15)\n",
    "bar_width =0.35\n",
    "opacity=0.8\n",
    "ratings = plt.bar(index,app_mean_rating_df['Average_Rating'], bar_width,\n",
    "alpha=opacity,\n",
    "color='b',\n",
    "label='Average Rating')\n",
    "\n",
    "size = plt.bar(index + bar_width,app_mean_rating_df['Average_Size'], bar_width,\n",
    "alpha=opacity,\n",
    "color='g',\n",
    "label='Average Size')\n",
    "\n",
    "plt.xlabel('Category')\n",
    "plt.ylabel('Average')\n",
    "plt.title('Average Rating and Size of top 15 Categories')\n",
    "plt.xticks(index + bar_width, app_mean_rating_df['Category'], rotation =90)\n",
    "plt.legend()\n",
    " \n",
    "plt.tight_layout()\n",
    "plt.show()\n"
   ]
  },
  {
   "cell_type": "code",
   "execution_count": 56,
   "metadata": {},
   "outputs": [
    {
     "data": {
      "image/png": "[encoded data removed]",
      "text/plain": [
       "<Figure size 432x288 with 1 Axes>"
      ]
     },
     "metadata": {},
     "output_type": "display_data"
    }
   ],
   "source": [
    "fig, ax2 = plt.subplots()\n",
    "index = np.arange(15)\n",
    "bar_width =0.35\n",
    "opacity=0.8\n",
    "ratings = plt.bar(index,app_mean_rating_df['Average_Rating'], bar_width,\n",
    "alpha=opacity,\n",
    "color='b',\n",
    "label='Average Rating')\n",
    "\n",
    "size = plt.bar(index + bar_width,app_mean_rating_df['Average_Price'], bar_width,\n",
    "alpha=opacity,\n",
    "color='r',\n",
    "label='Average Price')\n",
    "\n",
    "plt.xlabel('Category')\n",
    "plt.ylabel('Average')\n",
    "plt.title('Average Rating and Price of top 15 Categories')\n",
    "plt.xticks(index + bar_width, app_mean_rating_df['Category'], rotation =90)\n",
    "plt.legend()\n",
    " \n",
    "plt.tight_layout()\n",
    "plt.show()"
   ]
  },
  {
   "cell_type": "code",
   "execution_count": 67,
   "metadata": {},
   "outputs": [
    {
     "name": "stdout",
     "output_type": "stream",
     "text": [
      "['FAMILY', 'GAME', 'TOOLS', 'MEDICAL', 'BUSINESS', 'Others']\n"
     ]
    },
    {
     "data": {
      "text/html": [
       "<div>\n",
       "<style scoped>\n",
       "    .dataframe tbody tr th:only-of-type {\n",
       "        vertical-align: middle;\n",
       "    }\n",
       "\n",
       "    .dataframe tbody tr th {\n",
       "        vertical-align: top;\n",
       "    }\n",
       "\n",
       "    .dataframe thead th {\n",
       "        text-align: right;\n",
       "    }\n",
       "</style>\n",
       "<table border=\"1\" class=\"dataframe\">\n",
       "  <thead>\n",
       "    <tr style=\"text-align: right;\">\n",
       "      <th></th>\n",
       "      <th>Category</th>\n",
       "      <th>Paid to Free Ratio</th>\n",
       "    </tr>\n",
       "  </thead>\n",
       "  <tbody>\n",
       "    <tr>\n",
       "      <th>0</th>\n",
       "      <td>BUSINESS</td>\n",
       "      <td>0.031390</td>\n",
       "    </tr>\n",
       "    <tr>\n",
       "      <th>1</th>\n",
       "      <td>FAMILY</td>\n",
       "      <td>0.107303</td>\n",
       "    </tr>\n",
       "    <tr>\n",
       "      <th>2</th>\n",
       "      <td>GAME</td>\n",
       "      <td>0.078228</td>\n",
       "    </tr>\n",
       "    <tr>\n",
       "      <th>3</th>\n",
       "      <td>MEDICAL</td>\n",
       "      <td>0.307910</td>\n",
       "    </tr>\n",
       "    <tr>\n",
       "      <th>4</th>\n",
       "      <td>TOOLS</td>\n",
       "      <td>0.101961</td>\n",
       "    </tr>\n",
       "  </tbody>\n",
       "</table>\n",
       "</div>"
      ],
      "text/plain": [
       "   Category  Paid to Free Ratio\n",
       "0  BUSINESS            0.031390\n",
       "1    FAMILY            0.107303\n",
       "2      GAME            0.078228\n",
       "3   MEDICAL            0.307910\n",
       "4     TOOLS            0.101961"
      ]
     },
     "execution_count": 67,
     "metadata": {},
     "output_type": "execute_result"
    }
   ],
   "source": [
    "category = []\n",
    "paid_to_free = []\n",
    "for group , frame in apps.groupby('Category'):\n",
    "    if group in category_desc:\n",
    "        category.append(group)\n",
    "        free_app = len(frame[frame['Type']=='Free'])\n",
    "        paid_app = len(frame[frame['Type']=='Paid'])\n",
    "        paid_to_free.append(paid_app/free_app)\n",
    "paid_to_free_dict = {'Category' : category,'Paid to Free Ratio':paid_to_free}\n",
    "paid_to_free_df = pd.DataFrame(paid_to_free_dict)\n",
    "paid_to_free_df\n",
    "#app_mean_rating_df.sort_values(by=['Average_Rating'],ascending=False,inplace=True)\n",
    "#app_mean_rating_df"
   ]
  },
  {
   "cell_type": "code",
   "execution_count": 70,
   "metadata": {},
   "outputs": [
    {
     "data": {
      "text/plain": [
       "Text(0.5,1,'Paid to Free Ratio of top 5 Categories')"
      ]
     },
     "execution_count": 70,
     "metadata": {},
     "output_type": "execute_result"
    },
    {
     "data": {
      "image/png": "[encoded data removed]",
      "text/plain": [
       "<Figure size 432x288 with 1 Axes>"
      ]
     },
     "metadata": {},
     "output_type": "display_data"
    }
   ],
   "source": [
    "plt.bar(paid_to_free_df['Category'],paid_to_free_df['Paid to Free Ratio'],width =0.5)\n",
    "ax = plt.gca()\n",
    "x = ax.xaxis\n",
    "for item in x.get_ticklabels():\n",
    "    item.set_rotation(90)\n",
    "ax.set_xlabel('App Category')\n",
    "ax.set_ylabel('Paid to Free Ratio')\n",
    "ax.set_title('Paid to Free Ratio of top 5 Categories')"
   ]
  },
  {
   "cell_type": "code",
   "execution_count": 72,
   "metadata": {},
   "outputs": [
    {
     "name": "stdout",
     "output_type": "stream",
     "text": [
      "['Free', 'Paid']\n",
      "[167560478406, 72956081]\n"
     ]
    }
   ],
   "source": [
    "app_type = []\n",
    "total_installs = []\n",
    "for group , frame in apps.groupby('Type'):\n",
    "        app_type.append(group)\n",
    "        sum_installs = sum(frame[frame['Type']== group]['Installs'])\n",
    "        total_installs.append(sum_installs)\n",
    "print(app_type)\n",
    "print(total_installs)"
   ]
  },
  {
   "cell_type": "code",
   "execution_count": 77,
   "metadata": {},
   "outputs": [
    {
     "data": {
      "text/plain": [
       "Text(0.5,1,'Free VS Paid Apps')"
      ]
     },
     "execution_count": 77,
     "metadata": {},
     "output_type": "execute_result"
    },
    {
     "data": {
      "image/png": "[encoded data removed]",
      "text/plain": [
       "<Figure size 432x288 with 1 Axes>"
      ]
     },
     "metadata": {},
     "output_type": "display_data"
    }
   ],
   "source": [
    "plt.pie(total_installs,labels=app_type,colors=['y','r'])\n",
    "axPie=plt.gca()\n",
    "axPie.set_title('Free VS Paid Apps')"
   ]
  },
  {
   "cell_type": "code",
   "execution_count": 74,
   "metadata": {},
   "outputs": [],
   "source": [
    "plt.pie?"
   ]
  },
  {
   "cell_type": "code",
   "execution_count": null,
   "metadata": {},
   "outputs": [],
   "source": []
  }
 ],
 "metadata": {
  "kernelspec": {
   "display_name": "Python 3",
   "language": "python",
   "name": "python3"
  },
  "language_info": {
   "codemirror_mode": {
    "name": "ipython",
    "version": 3
   },
   "file_extension": ".py",
   "mimetype": "text/x-python",
   "name": "python",
   "nbconvert_exporter": "python",
   "pygments_lexer": "ipython3",
   "version": "3.6.5"
  }
 },
 "nbformat": 4,
 "nbformat_minor": 2
}
