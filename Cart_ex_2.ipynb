{
 "cells": [
  {
   "cell_type": "code",
   "execution_count": 15,
   "metadata": {},
   "outputs": [],
   "source": [
    "import pandas as pd\n",
    "from sklearn import tree\n",
    "from sklearn.model_selection import cross_val_score\n",
    "from sklearn.model_selection import GridSearchCV\n",
    "from sklearn.model_selection import train_test_split\n",
    "from sklearn.model_selection import GridSearchCV\n",
    "from sklearn.metrics import accuracy_score, classification_report\n",
    "import math as m"
   ]
  },
  {
   "cell_type": "code",
   "execution_count": 16,
   "metadata": {},
   "outputs": [
    {
     "data": {
      "text/plain": [
       "(600, 11)"
      ]
     },
     "execution_count": 16,
     "metadata": {},
     "output_type": "execute_result"
    }
   ],
   "source": [
    "bank = pd.read_csv('Dataset/bank-data.csv')\n",
    "bank.shape"
   ]
  },
  {
   "cell_type": "code",
   "execution_count": 25,
   "metadata": {},
   "outputs": [
    {
     "data": {
      "text/html": [
       "<div>\n",
       "<style scoped>\n",
       "    .dataframe tbody tr th:only-of-type {\n",
       "        vertical-align: middle;\n",
       "    }\n",
       "\n",
       "    .dataframe tbody tr th {\n",
       "        vertical-align: top;\n",
       "    }\n",
       "\n",
       "    .dataframe thead th {\n",
       "        text-align: right;\n",
       "    }\n",
       "</style>\n",
       "<table border=\"1\" class=\"dataframe\">\n",
       "  <thead>\n",
       "    <tr style=\"text-align: right;\">\n",
       "      <th></th>\n",
       "      <th>age</th>\n",
       "      <th>sex</th>\n",
       "      <th>region</th>\n",
       "      <th>income</th>\n",
       "      <th>married</th>\n",
       "      <th>children</th>\n",
       "      <th>car</th>\n",
       "      <th>save_act</th>\n",
       "      <th>current_act</th>\n",
       "      <th>mortgage</th>\n",
       "    </tr>\n",
       "  </thead>\n",
       "  <tbody>\n",
       "    <tr>\n",
       "      <th>0</th>\n",
       "      <td>48</td>\n",
       "      <td>1</td>\n",
       "      <td>0</td>\n",
       "      <td>17546.0</td>\n",
       "      <td>0</td>\n",
       "      <td>1</td>\n",
       "      <td>0</td>\n",
       "      <td>0</td>\n",
       "      <td>0</td>\n",
       "      <td>0</td>\n",
       "    </tr>\n",
       "    <tr>\n",
       "      <th>1</th>\n",
       "      <td>40</td>\n",
       "      <td>0</td>\n",
       "      <td>3</td>\n",
       "      <td>30085.1</td>\n",
       "      <td>1</td>\n",
       "      <td>3</td>\n",
       "      <td>1</td>\n",
       "      <td>0</td>\n",
       "      <td>1</td>\n",
       "      <td>1</td>\n",
       "    </tr>\n",
       "    <tr>\n",
       "      <th>2</th>\n",
       "      <td>51</td>\n",
       "      <td>1</td>\n",
       "      <td>0</td>\n",
       "      <td>16575.4</td>\n",
       "      <td>1</td>\n",
       "      <td>0</td>\n",
       "      <td>1</td>\n",
       "      <td>1</td>\n",
       "      <td>1</td>\n",
       "      <td>0</td>\n",
       "    </tr>\n",
       "    <tr>\n",
       "      <th>3</th>\n",
       "      <td>23</td>\n",
       "      <td>1</td>\n",
       "      <td>3</td>\n",
       "      <td>20375.4</td>\n",
       "      <td>1</td>\n",
       "      <td>3</td>\n",
       "      <td>0</td>\n",
       "      <td>0</td>\n",
       "      <td>1</td>\n",
       "      <td>0</td>\n",
       "    </tr>\n",
       "    <tr>\n",
       "      <th>4</th>\n",
       "      <td>57</td>\n",
       "      <td>1</td>\n",
       "      <td>1</td>\n",
       "      <td>50576.3</td>\n",
       "      <td>1</td>\n",
       "      <td>0</td>\n",
       "      <td>0</td>\n",
       "      <td>1</td>\n",
       "      <td>0</td>\n",
       "      <td>0</td>\n",
       "    </tr>\n",
       "  </tbody>\n",
       "</table>\n",
       "</div>"
      ],
      "text/plain": [
       "   age  sex  region   income  married  children  car  save_act  current_act  \\\n",
       "0   48    1       0  17546.0        0         1    0         0            0   \n",
       "1   40    0       3  30085.1        1         3    1         0            1   \n",
       "2   51    1       0  16575.4        1         0    1         1            1   \n",
       "3   23    1       3  20375.4        1         3    0         0            1   \n",
       "4   57    1       1  50576.3        1         0    0         1            0   \n",
       "\n",
       "   mortgage  \n",
       "0         0  \n",
       "1         1  \n",
       "2         0  \n",
       "3         0  \n",
       "4         0  "
      ]
     },
     "execution_count": 25,
     "metadata": {},
     "output_type": "execute_result"
    }
   ],
   "source": [
    "x = bank.iloc[:,:-1]\n",
    "x.head()"
   ]
  },
  {
   "cell_type": "code",
   "execution_count": 18,
   "metadata": {},
   "outputs": [
    {
     "data": {
      "text/plain": [
       "(600,)"
      ]
     },
     "execution_count": 18,
     "metadata": {},
     "output_type": "execute_result"
    }
   ],
   "source": [
    "y = bank.pep\n",
    "y.shape"
   ]
  },
  {
   "cell_type": "code",
   "execution_count": 26,
   "metadata": {},
   "outputs": [],
   "source": [
    "x_train,x_test,y_train,y_test = train_test_split(x,y,test_size=0.2,random_state =42)"
   ]
  },
  {
   "cell_type": "code",
   "execution_count": 27,
   "metadata": {},
   "outputs": [],
   "source": [
    "bank_tree = tree.DecisionTreeRegressor(min_samples_split=50)\n",
    "bank_tree.fit(x_train,y_train)\n",
    "score = bank_tree.score(x_train,y_train)"
   ]
  },
  {
   "cell_type": "code",
   "execution_count": 28,
   "metadata": {},
   "outputs": [
    {
     "data": {
      "text/plain": [
       "0.525852897318126"
      ]
     },
     "execution_count": 28,
     "metadata": {},
     "output_type": "execute_result"
    }
   ],
   "source": [
    "score"
   ]
  },
  {
   "cell_type": "code",
   "execution_count": 30,
   "metadata": {},
   "outputs": [
    {
     "data": {
      "text/plain": [
       "array([0.14583333, 0.02173913, 0.02941176, 0.51515152, 0.87234043,\n",
       "       0.31578947, 0.12903226, 0.02173913, 0.93478261, 0.14583333,\n",
       "       0.51515152, 0.02941176, 0.14583333, 0.93478261, 0.725     ,\n",
       "       0.725     , 0.87234043, 0.69565217, 0.02173913, 0.12903226,\n",
       "       0.51515152, 0.16666667, 1.        , 0.51515152, 0.69565217,\n",
       "       0.24      , 0.16666667, 0.31578947, 0.31578947, 0.93478261,\n",
       "       1.        , 0.93478261, 1.        , 0.02941176, 0.16666667,\n",
       "       0.02173913, 0.14583333, 0.93478261, 0.02173913, 0.87234043,\n",
       "       0.12903226, 1.        , 1.        , 0.725     , 0.87234043,\n",
       "       0.93478261, 0.87234043, 0.02941176, 0.87234043, 1.        ,\n",
       "       0.69565217, 0.02173913, 0.12903226, 0.725     , 0.16666667,\n",
       "       0.14583333, 0.69565217, 0.16666667, 0.87234043, 0.725     ,\n",
       "       0.725     , 0.2       , 0.725     , 1.        , 0.51515152,\n",
       "       1.        , 0.725     , 0.51515152, 0.725     , 0.93478261,\n",
       "       0.24      , 1.        , 0.24      , 0.93478261, 0.725     ,\n",
       "       0.725     , 0.02173913, 0.69565217, 0.24      , 0.12903226,\n",
       "       0.31578947, 0.93478261, 0.02173913, 0.87234043, 0.725     ,\n",
       "       0.69565217, 0.02941176, 0.725     , 0.02173913, 0.69565217,\n",
       "       0.31578947, 0.87234043, 0.16666667, 0.87234043, 0.02173913,\n",
       "       0.02941176, 1.        , 0.02941176, 0.02173913, 0.02941176,\n",
       "       0.02173913, 0.69565217, 0.725     , 0.2       , 0.02173913,\n",
       "       0.02173913, 0.16666667, 0.14583333, 0.02173913, 0.02173913,\n",
       "       0.14583333, 0.14583333, 0.02173913, 0.2       , 0.93478261,\n",
       "       1.        , 0.16666667, 0.93478261, 0.93478261, 0.93478261,\n",
       "       0.93478261, 0.87234043, 0.725     , 0.02173913, 0.02941176,\n",
       "       0.16666667, 0.02173913, 0.14583333, 1.        , 0.12903226,\n",
       "       1.        , 0.725     , 0.93478261, 0.02941176, 0.24      ,\n",
       "       0.02941176, 0.51515152, 0.87234043, 0.14583333, 0.2       ,\n",
       "       0.725     , 0.2       , 0.02173913, 1.        , 0.12903226,\n",
       "       0.16666667, 0.69565217, 0.14583333, 0.93478261, 0.24      ,\n",
       "       0.87234043, 0.87234043, 1.        , 0.87234043, 0.87234043,\n",
       "       0.93478261, 0.2       , 0.02173913, 0.87234043, 0.02941176,\n",
       "       0.93478261, 0.12903226, 0.51515152, 0.16666667, 0.02173913,\n",
       "       0.51515152, 0.02941176, 0.725     , 0.51515152, 0.93478261,\n",
       "       0.14583333, 0.12903226, 0.725     , 0.725     , 0.12903226,\n",
       "       0.12903226, 0.02941176, 0.69565217, 0.69565217, 0.725     ,\n",
       "       1.        , 0.725     , 0.725     , 0.02173913, 0.69565217,\n",
       "       0.725     , 0.725     , 0.14583333, 0.02173913, 0.51515152,\n",
       "       1.        , 0.87234043, 0.14583333, 0.14583333, 0.02173913,\n",
       "       0.69565217, 0.14583333, 0.87234043, 0.16666667, 0.14583333,\n",
       "       0.31578947, 0.02941176, 0.24      , 0.87234043, 0.51515152,\n",
       "       0.93478261, 0.93478261, 0.87234043, 0.24      , 0.02173913,\n",
       "       0.02173913, 0.24      , 0.87234043, 0.93478261, 0.31578947,\n",
       "       0.12903226, 0.93478261, 0.02173913, 0.2       , 0.14583333,\n",
       "       0.02941176, 0.93478261, 0.24      , 0.93478261, 0.69565217,\n",
       "       0.12903226, 1.        , 0.2       , 1.        , 0.725     ,\n",
       "       0.12903226, 0.87234043, 0.02173913, 0.14583333, 0.87234043,\n",
       "       0.12903226, 0.14583333, 0.14583333, 0.725     , 0.12903226,\n",
       "       0.87234043, 0.02941176, 0.16666667, 0.14583333, 0.2       ,\n",
       "       0.14583333, 1.        , 0.02941176, 1.        , 0.02941176,\n",
       "       0.51515152, 0.93478261, 0.02173913, 0.2       , 0.725     ,\n",
       "       0.24      , 0.14583333, 0.14583333, 0.02173913, 0.2       ,\n",
       "       0.87234043, 0.725     , 0.87234043, 0.24      , 0.14583333,\n",
       "       0.14583333, 1.        , 0.02941176, 0.725     , 1.        ,\n",
       "       0.02173913, 1.        , 0.69565217, 0.02173913, 0.51515152,\n",
       "       0.14583333, 0.725     , 1.        , 0.51515152, 0.02173913,\n",
       "       0.69565217, 0.51515152, 0.14583333, 0.87234043, 0.87234043,\n",
       "       0.24      , 0.69565217, 0.02941176, 0.2       , 1.        ,\n",
       "       0.02173913, 0.14583333, 0.87234043, 1.        , 0.02941176,\n",
       "       1.        , 0.12903226, 0.93478261, 0.87234043, 0.02941176,\n",
       "       0.02173913, 0.51515152, 0.14583333, 0.02173913, 0.12903226,\n",
       "       1.        , 0.02941176, 0.31578947, 0.12903226, 0.51515152,\n",
       "       0.14583333, 0.14583333, 0.02941176, 0.2       , 0.14583333,\n",
       "       0.51515152, 0.2       , 0.51515152, 0.2       , 0.14583333,\n",
       "       0.14583333, 0.24      , 0.14583333, 0.2       , 0.31578947,\n",
       "       0.87234043, 0.87234043, 0.51515152, 0.87234043, 0.93478261,\n",
       "       0.93478261, 0.12903226, 0.02173913, 0.14583333, 0.93478261,\n",
       "       1.        , 0.12903226, 1.        , 0.87234043, 0.93478261,\n",
       "       0.2       , 0.02941176, 0.24      , 0.725     , 0.51515152,\n",
       "       0.725     , 0.2       , 0.51515152, 0.12903226, 0.02941176,\n",
       "       0.31578947, 0.24      , 0.69565217, 0.31578947, 0.87234043,\n",
       "       0.31578947, 0.87234043, 0.24      , 0.31578947, 0.14583333,\n",
       "       0.02173913, 0.93478261, 0.14583333, 0.51515152, 0.93478261,\n",
       "       0.87234043, 0.31578947, 0.24      , 0.14583333, 0.16666667,\n",
       "       0.93478261, 0.12903226, 0.24      , 0.87234043, 0.2       ,\n",
       "       0.87234043, 1.        , 0.24      , 0.93478261, 0.93478261,\n",
       "       0.69565217, 0.51515152, 0.93478261, 1.        , 0.93478261,\n",
       "       0.51515152, 0.02941176, 0.14583333, 0.12903226, 0.2       ,\n",
       "       0.51515152, 0.16666667, 0.12903226, 0.725     , 0.69565217,\n",
       "       0.14583333, 0.02173913, 0.02941176, 0.02173913, 0.02173913,\n",
       "       0.24      , 0.725     , 0.51515152, 0.02941176, 0.51515152,\n",
       "       0.51515152, 0.24      , 1.        , 0.2       , 0.93478261,\n",
       "       0.87234043, 0.14583333, 1.        , 0.51515152, 0.2       ,\n",
       "       0.2       , 0.12903226, 0.14583333, 0.2       , 0.12903226,\n",
       "       0.93478261, 0.31578947, 0.2       , 0.31578947, 0.14583333,\n",
       "       0.02173913, 0.725     , 0.69565217, 1.        , 0.87234043,\n",
       "       0.725     , 0.87234043, 0.12903226, 0.51515152, 1.        ,\n",
       "       0.69565217, 1.        , 0.69565217, 0.87234043, 0.93478261,\n",
       "       0.16666667, 0.31578947, 0.93478261, 0.24      , 0.87234043,\n",
       "       0.02941176, 0.14583333, 0.02941176, 0.24      , 0.2       ,\n",
       "       0.2       , 0.93478261, 0.93478261, 0.12903226, 0.02173913,\n",
       "       0.12903226, 1.        , 0.12903226, 0.93478261, 0.16666667,\n",
       "       0.31578947, 0.2       , 0.93478261, 0.02941176, 0.02173913,\n",
       "       0.02173913, 0.2       , 0.725     , 0.725     , 0.16666667,\n",
       "       0.31578947, 0.2       , 0.02941176, 0.87234043, 0.87234043,\n",
       "       0.725     , 0.14583333, 1.        , 0.24      , 0.51515152])"
      ]
     },
     "execution_count": 30,
     "metadata": {},
     "output_type": "execute_result"
    }
   ],
   "source": [
    "bank_tree.predict(x_train)"
   ]
  },
  {
   "cell_type": "code",
   "execution_count": 14,
   "metadata": {},
   "outputs": [
    {
     "name": "stdout",
     "output_type": "stream",
     "text": [
      "Collecting sklearn\n",
      "  Using cached https://files.pythonhosted.org/packages/1e/7a/dbb3be0ce9bd5c8b7e3d87328e79063f8b263b2b1bfa4774cb1147bfcd3f/sklearn-0.0.tar.gz\n",
      "Requirement already satisfied, skipping upgrade: scikit-learn in c:\\users\\apraj\\appdata\\roaming\\python\\python36\\site-packages (from sklearn) (0.21.3)\n",
      "Requirement already satisfied, skipping upgrade: joblib>=0.11 in c:\\users\\apraj\\appdata\\roaming\\python\\python36\\site-packages (from scikit-learn->sklearn) (0.14.0)\n",
      "Requirement already satisfied, skipping upgrade: numpy>=1.11.0 in c:\\users\\apraj\\appdata\\roaming\\python\\python36\\site-packages (from scikit-learn->sklearn) (1.17.4)\n",
      "Requirement already satisfied, skipping upgrade: scipy>=0.17.0 in c:\\users\\apraj\\appdata\\roaming\\python\\python36\\site-packages (from scikit-learn->sklearn) (1.2.0)\n",
      "Building wheels for collected packages: sklearn\n",
      "  Building wheel for sklearn (setup.py): started\n",
      "  Building wheel for sklearn (setup.py): finished with status 'done'\n",
      "  Created wheel for sklearn: filename=sklearn-0.0-py2.py3-none-any.whl size=1324 sha256=17adb5ebedad12641d84d99f80aeaa48c511675d39bd94bad771e834f747ca5d\n",
      "  Stored in directory: C:\\Users\\apraj\\AppData\\Local\\pip\\Cache\\wheels\\76\\03\\bb\\589d421d27431bcd2c6da284d5f2286c8e3b2ea3cf1594c074\n",
      "Successfully built sklearn\n",
      "Installing collected packages: sklearn\n",
      "Successfully installed sklearn-0.0\n"
     ]
    },
    {
     "name": "stderr",
     "output_type": "stream",
     "text": [
      "WARNING: You are using pip version 19.3.1; however, version 20.0.2 is available.\n",
      "You should consider upgrading via the 'python -m pip install --upgrade pip' command.\n"
     ]
    }
   ],
   "source": [
    "import sys\n",
    "!{sys.executable} -m pip install sklearn --upgrade"
   ]
  },
  {
   "cell_type": "code",
   "execution_count": null,
   "metadata": {},
   "outputs": [],
   "source": []
  }
 ],
 "metadata": {
  "kernelspec": {
   "display_name": "Python 3",
   "language": "python",
   "name": "python3"
  },
  "language_info": {
   "codemirror_mode": {
    "name": "ipython",
    "version": 3
   },
   "file_extension": ".py",
   "mimetype": "text/x-python",
   "name": "python",
   "nbconvert_exporter": "python",
   "pygments_lexer": "ipython3",
   "version": "3.6.5"
  }
 },
 "nbformat": 4,
 "nbformat_minor": 2
}
